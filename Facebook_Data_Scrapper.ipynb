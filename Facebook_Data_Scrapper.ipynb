{
 "cells": [
  {
   "cell_type": "code",
   "execution_count": null,
   "id": "9e1ab8d3",
   "metadata": {},
   "outputs": [],
   "source": [
    "from selenium import webdriver\n",
    "from selenium.webdriver.common.keys import Keys\n",
    "from selenium.webdriver.support import expected_conditions as EC\n",
    "from selenium.webdriver.common.by import By\n",
    "from selenium.webdriver.support.wait import WebDriverWait\n",
    "import os\n",
    "import wget\n",
    "import time"
   ]
  },
  {
   "cell_type": "code",
   "execution_count": null,
   "id": "616e79e8",
   "metadata": {},
   "outputs": [],
   "source": [
    "# this is to remove the block the broser notification prompt\n",
    "chrome_options = webdriver.ChromeOptions()\n",
    "prefs = {\"profile.default_content_setting_values.notifications\" : 2}\n",
    "chrome_options.add_experimental_option(\"prefs\",prefs)"
   ]
  },
  {
   "cell_type": "code",
   "execution_count": null,
   "id": "e6d305ab",
   "metadata": {},
   "outputs": [],
   "source": [
    "\n",
    "#specify the path to chromedriver.exe (download and save on your computer)\n",
    "driver = webdriver.Chrome('C:/Users/hp/chromedriver.exe', chrome_options=chrome_options)\n",
    "\n",
    "\n",
    "#variables\n",
    "ws=WebDriverWait(driver, 10)\n",
    "user_name=input(\"Enter your Email/user name : \")\n",
    "pass_word=input(\"Enter your Password : \")\n",
    "\n",
    "\n",
    "#open the webpage\n",
    "driver.get(\"https://mbasic.facebook.com\")\n",
    "#target username\n",
    "username = ws.until(EC.element_to_be_clickable((By.CSS_SELECTOR, \"input[name='email']\")))\n",
    "password = ws.until(EC.element_to_be_clickable((By.CSS_SELECTOR, \"input[name='pass']\")))\n",
    "\n",
    "#enter username and password\n",
    "username.clear()\n",
    "username.send_keys(user_name)\n",
    "password.clear()\n",
    "password.send_keys(pass_word)\n",
    "\n",
    "\n",
    "\n",
    "#target the login button and click it\n",
    "button = ws.until(lambda driver: driver.find_element_by_xpath(\"/html/body/div/div/div[2]/div/table/tbody/tr/td/div[2]/div/div[2]/form/ul/li[3]/input\")).click()\n",
    "\n",
    "#We are logged in!"
   ]
  },
  {
   "cell_type": "markdown",
   "id": "2e56953f",
   "metadata": {},
   "source": [
    "# clicking on Not Now button"
   ]
  },
  {
   "cell_type": "code",
   "execution_count": null,
   "id": "65ccd1ff",
   "metadata": {},
   "outputs": [],
   "source": [
    "time.sleep(1)\n",
    "notnow=\"/html/body/div/div/div/div/table/tbody/tr/td/div/div[3]/a\"\n",
    "button_notnow= ws.until(lambda driver: driver.find_element_by_xpath(notnow)).click()\n"
   ]
  },
  {
   "cell_type": "markdown",
   "id": "5bd98755",
   "metadata": {},
   "source": [
    "# # giving  the target friend's name"
   ]
  },
  {
   "cell_type": "code",
   "execution_count": null,
   "id": "9ff45a35",
   "metadata": {},
   "outputs": [],
   "source": [
    "time.sleep(3)\n",
    "target_friendname=input(\"Enter the target friend name: \")\n",
    "Search_field = ws.until(EC.element_to_be_clickable((By.CSS_SELECTOR, \"input[name='query']\")))\n",
    "Search_field.clear()\n",
    "Search_field.send_keys(target_friendname)\n",
    "time.sleep(3)\n",
    "Search_btn= ws.until(lambda driver: driver.find_element_by_xpath(\"/html/body/div/div/div[1]/div/form/table/tbody/tr/td[3]/input\")).click()\n"
   ]
  },
  {
   "cell_type": "markdown",
   "id": "ffcf380e",
   "metadata": {},
   "source": [
    "## getting profile and friend list"
   ]
  },
  {
   "cell_type": "code",
   "execution_count": null,
   "id": "542c0eb8",
   "metadata": {},
   "outputs": [],
   "source": [
    "time.sleep(3)\n",
    "profile_click= WebDriverWait(driver, 5).until(lambda driver: driver.find_element_by_xpath(\"/html/body/div/div/div[2]/div[2]/div[1]/div[2]/div[1]/div/div/div/div[1]/div/table/tbody/tr/td[2]/a\")).click()\n",
    "time.sleep(3)\n",
    "friends_list= WebDriverWait(driver, 5).until(lambda driver: driver.find_element_by_xpath(\"/html/body/div/div/div[2]/div/div[1]/div[1]/div[4]/a[2]\")).click()"
   ]
  },
  {
   "cell_type": "markdown",
   "id": "5f55eecc",
   "metadata": {},
   "source": [
    "## extracting friends from first page"
   ]
  },
  {
   "cell_type": "code",
   "execution_count": null,
   "id": "052ed659",
   "metadata": {},
   "outputs": [],
   "source": [
    "lnks=driver.find_elements_by_tag_name(\"a\")\n",
    "z=0\n",
    "flst=[]\n",
    "for lnk in lnks:\n",
    "    if lnk.get_attribute(\"text\").lower() == \"see more friends\":\n",
    "        break\n",
    "    if z>24 and lnk.get_attribute(\"text\").lower()!=\"add friend\":\n",
    "        flst.append(lnk.get_attribute(\"text\"))\n",
    "    z=z+1\n",
    "    "
   ]
  },
  {
   "cell_type": "code",
   "execution_count": null,
   "id": "7380e486",
   "metadata": {},
   "outputs": [],
   "source": [
    "flst"
   ]
  },
  {
   "cell_type": "code",
   "execution_count": null,
   "id": "d31094ed",
   "metadata": {},
   "outputs": [],
   "source": [
    "See_more= WebDriverWait(driver, 5).until(lambda driver: driver.find_element_by_xpath(\"/html/body/div/div/div[2]/div/div[1]/div[3]/a\")).click()"
   ]
  },
  {
   "cell_type": "markdown",
   "id": "96f9233e",
   "metadata": {},
   "source": [
    "## scraping friend list using loop"
   ]
  },
  {
   "cell_type": "code",
   "execution_count": null,
   "id": "2d9f8fe5",
   "metadata": {},
   "outputs": [],
   "source": [
    "index=0\n",
    "try:\n",
    "    while True:\n",
    "        time.sleep(3)\n",
    "        lnks=driver.find_elements_by_tag_name(\"a\")\n",
    "        z=0\n",
    "        for lnk in lnks:\n",
    "            if lnk.get_attribute(\"text\").lower() == \"see more friends\":\n",
    "                break;\n",
    "            if z>16 and lnk.get_attribute(\"text\").lower()!=\"add friend\":\n",
    "                flst.append(lnk.get_attribute(\"text\"))\n",
    "            z=z+1\n",
    "        See_more=ws.until(lambda driver: driver.find_element_by_xpath(\"/html/body/div/div/div[2]/div/div[1]/div[2]/a\")).click()\n",
    "        \n",
    "except KeyboardInterrupt:\n",
    "    pass\n",
    "    \n",
    "    \n",
    "            \n"
   ]
  },
  {
   "cell_type": "code",
   "execution_count": null,
   "id": "91942f81",
   "metadata": {},
   "outputs": [],
   "source": [
    "for i in range(7):\n",
    "    flst.pop()\n",
    "    i=i+1"
   ]
  },
  {
   "cell_type": "code",
   "execution_count": null,
   "id": "cfba846b",
   "metadata": {},
   "outputs": [],
   "source": [
    "len(flst)"
   ]
  },
  {
   "cell_type": "code",
   "execution_count": null,
   "id": "a76e3ef0",
   "metadata": {},
   "outputs": [],
   "source": [
    "flst"
   ]
  },
  {
   "cell_type": "code",
   "execution_count": null,
   "id": "ba4acd29",
   "metadata": {},
   "outputs": [],
   "source": []
  }
 ],
 "metadata": {
  "kernelspec": {
   "display_name": "Python 3",
   "language": "python",
   "name": "python3"
  },
  "language_info": {
   "codemirror_mode": {
    "name": "ipython",
    "version": 3
   },
   "file_extension": ".py",
   "mimetype": "text/x-python",
   "name": "python",
   "nbconvert_exporter": "python",
   "pygments_lexer": "ipython3",
   "version": "3.9.5"
  }
 },
 "nbformat": 4,
 "nbformat_minor": 5
}
